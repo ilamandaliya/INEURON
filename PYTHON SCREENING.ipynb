{
 "cells": [
  {
   "cell_type": "markdown",
   "id": "f04411d7",
   "metadata": {},
   "source": [
    "1. Create a function in python to read the text file and replace specific content\n",
    "of the file.\n",
    "File name example.txt\n",
    "Origin file content This is a placement assignment\n",
    "Replace string Placement should be replaced by\n",
    "screening.\n",
    "Replaced file content This is a screening assignment"
   ]
  },
  {
   "cell_type": "code",
   "execution_count": 5,
   "id": "d6ebf42e",
   "metadata": {},
   "outputs": [],
   "source": [
    "#importing the regex module\n",
    "import re\n",
    "import os\n",
    "os.chdir(r'C:\\\\Users\\\\ila.mandaliya\\\\OneDrive - Accenture\\\\Documents')\n",
    "#defining the replace method\n",
    "def replace(filePath, text, subs, flags=0):\n",
    "    with open(file_path, \"r+\") as file:\n",
    "        #read the file contents\n",
    "        file_contents = file.read()\n",
    "        text_pattern = re.compile(re.escape(text), flags)\n",
    "        file_contents = text_pattern.sub(subs, file_contents)\n",
    "        file.seek(0)\n",
    "        file.truncate()\n",
    "        file.write(file_contents)\n",
    "\n",
    "    \n",
    "file_path=\"example.txt\"\n",
    "text=\"placement\"\n",
    "subs=\"screening\"\n",
    "#calling the replace method\n",
    "replace(file_path, text, subs)\n"
   ]
  },
  {
   "cell_type": "markdown",
   "id": "dc36f133",
   "metadata": {},
   "source": [
    "2. Demonstrate use of abstract class, multiple inheritance and decorator in\n",
    "python using examples"
   ]
  },
  {
   "cell_type": "markdown",
   "id": "53c8a629",
   "metadata": {},
   "source": [
    "An abstract class can be considered as a blueprint for other classes. It allows you to create a set of methods that must be created within any child classes built from the abstract class. A class which contains one or more abstract methods is called an abstract class. An abstract method is a method that has a declaration but does not have an implementation. While we are designing large functional units we use an abstract class. When we want to provide a common interface for different implementations of a component, we use an abstract class. \n",
    "\n",
    "Why use Abstract Base Classes : \n",
    "By defining an abstract base class, you can define a common Application Program Interface(API) for a set of subclasses. This capability is especially useful in situations where a third-party is going to provide implementations, such as with plugins, but can also help you when working in a large team or with a large code-base where keeping all classes in your mind is difficult or not possible. \n",
    "  \n",
    "How Abstract Base classes work : \n",
    "By default, Python does not provide abstract classes. Python comes with a module that provides the base for defining Abstract Base classes(ABC) and that module name is ABC. ABC works by decorating methods of the base class as abstract and then registering concrete classes as implementations of the abstract base. A method becomes abstract when decorated with the keyword @abstractmethod. For Example –\n"
   ]
  },
  {
   "cell_type": "code",
   "execution_count": 6,
   "id": "1e0a127f",
   "metadata": {},
   "outputs": [
    {
     "name": "stdout",
     "output_type": "stream",
     "text": [
      "I have 3 sides\n",
      "I have 4 sides\n",
      "I have 5 sides\n",
      "I have 6 sides\n"
     ]
    }
   ],
   "source": [
    "from abc import ABC, abstractmethod\n",
    " \n",
    "class Polygon(ABC):\n",
    " \n",
    "    @abstractmethod\n",
    "    def noofsides(self):\n",
    "        pass\n",
    " \n",
    "class Triangle(Polygon):\n",
    " \n",
    "    # overriding abstract method\n",
    "    def noofsides(self):\n",
    "        print(\"I have 3 sides\")\n",
    " \n",
    "class Pentagon(Polygon):\n",
    " \n",
    "    # overriding abstract method\n",
    "    def noofsides(self):\n",
    "        print(\"I have 5 sides\")\n",
    " \n",
    "class Hexagon(Polygon):\n",
    " \n",
    "    # overriding abstract method\n",
    "    def noofsides(self):\n",
    "        print(\"I have 6 sides\")\n",
    " \n",
    "class Quadrilateral(Polygon):\n",
    " \n",
    "    # overriding abstract method\n",
    "    def noofsides(self):\n",
    "        print(\"I have 4 sides\")\n",
    " \n",
    "# Driver code\n",
    "R = Triangle()\n",
    "R.noofsides()\n",
    " \n",
    "K = Quadrilateral()\n",
    "K.noofsides()\n",
    " \n",
    "R = Pentagon()\n",
    "R.noofsides()\n",
    " \n",
    "K = Hexagon()\n",
    "K.noofsides()"
   ]
  },
  {
   "cell_type": "markdown",
   "id": "267456fe",
   "metadata": {},
   "source": [
    "Implementation Through Subclassing : \n",
    "By subclassing directly from the base, we can avoid the need to register the class explicitly. In this case, the Python class management is used to recognize PluginImplementation as implementing the abstract PluginBase. "
   ]
  },
  {
   "cell_type": "code",
   "execution_count": 7,
   "id": "f4609bc3",
   "metadata": {},
   "outputs": [
    {
     "name": "stdout",
     "output_type": "stream",
     "text": [
      "True\n",
      "True\n"
     ]
    }
   ],
   "source": [
    "import abc\n",
    " \n",
    "class parent:      \n",
    "    def geeks(self):\n",
    "        pass\n",
    " \n",
    "class child(parent):\n",
    "    def geeks(self):\n",
    "        print(\"child class\")\n",
    " \n",
    "# Driver code\n",
    "print( issubclass(child, parent))\n",
    "print( isinstance(child(), parent))"
   ]
  },
  {
   "cell_type": "markdown",
   "id": "f3f5a11a",
   "metadata": {},
   "source": [
    "A side-effect of using direct subclassing is, it is possible to find all the implementations of your plugin by asking the base class for the list of known classes derived from it. \n",
    "  \n",
    "Concrete Methods in Abstract Base Classes : \n",
    "Concrete classes contain only concrete (normal)methods whereas abstract classes may contain both concrete methods and abstract methods. The concrete class provides an implementation of abstract methods, the abstract base class can also provide an implementation by invoking the methods via super(). \n",
    " "
   ]
  },
  {
   "cell_type": "code",
   "execution_count": 8,
   "id": "ab80b606",
   "metadata": {},
   "outputs": [
    {
     "name": "stdout",
     "output_type": "stream",
     "text": [
      "Abstract Base Class\n",
      "subclass \n"
     ]
    }
   ],
   "source": [
    "import abc\n",
    "from abc import ABC, abstractmethod\n",
    " \n",
    "class R(ABC):\n",
    "    def rk(self):\n",
    "        print(\"Abstract Base Class\")\n",
    " \n",
    "class K(R):\n",
    "    def rk(self):\n",
    "        super().rk()\n",
    "        print(\"subclass \")\n",
    " \n",
    "# Driver code\n",
    "r = K()\n",
    "r.rk()"
   ]
  },
  {
   "cell_type": "markdown",
   "id": "4d151643",
   "metadata": {},
   "source": [
    "Abstract Properties : \n",
    "Abstract classes include attributes in addition to methods, you can require the attributes in concrete classes by defining them with @abstractproperty. "
   ]
  },
  {
   "cell_type": "code",
   "execution_count": 9,
   "id": "a86224ab",
   "metadata": {},
   "outputs": [
    {
     "name": "stdout",
     "output_type": "stream",
     "text": [
      "Can't instantiate abstract class parent with abstract method geeks\n",
      "child class\n"
     ]
    }
   ],
   "source": [
    "import abc\n",
    "from abc import ABC, abstractmethod\n",
    " \n",
    "class parent(ABC):\n",
    "    @abc.abstractproperty\n",
    "    def geeks(self):\n",
    "        return \"parent class\"\n",
    "class child(parent):\n",
    "      \n",
    "    @property\n",
    "    def geeks(self):\n",
    "        return \"child class\"\n",
    "  \n",
    "  \n",
    "try:\n",
    "    r =parent()\n",
    "    print( r.geeks)\n",
    "except Exception as err:\n",
    "    print (err)\n",
    "  \n",
    "r = child()\n",
    "print (r.geeks)"
   ]
  },
  {
   "cell_type": "markdown",
   "id": "c331cdfe",
   "metadata": {},
   "source": [
    "Abstract Class Instantiation : \n",
    "Abstract classes are incomplete because they have methods that have nobody. If python allows creating an object for abstract classes then using that object if anyone calls the abstract method, but there is no actual implementation to invoke. So we use an abstract class as a template and according to the need, we extend it and build on it before we can use it. Due to the fact, an abstract class is not a concrete class, it cannot be instantiated. When we create an object for the abstract class it raises an error. "
   ]
  },
  {
   "cell_type": "code",
   "execution_count": 10,
   "id": "fb41396e",
   "metadata": {},
   "outputs": [
    {
     "ename": "TypeError",
     "evalue": "Can't instantiate abstract class Animal with abstract method move",
     "output_type": "error",
     "traceback": [
      "\u001b[1;31m---------------------------------------------------------------------------\u001b[0m",
      "\u001b[1;31mTypeError\u001b[0m                                 Traceback (most recent call last)",
      "\u001b[1;32mC:\\Users\\ILA~1.MAN\\AppData\\Local\\Temp/ipykernel_4932/611869498.py\u001b[0m in \u001b[0;36m<module>\u001b[1;34m\u001b[0m\n\u001b[0;32m     21\u001b[0m         \u001b[0mprint\u001b[0m\u001b[1;33m(\u001b[0m\u001b[1;34m\"I can roar\"\u001b[0m\u001b[1;33m)\u001b[0m\u001b[1;33m\u001b[0m\u001b[1;33m\u001b[0m\u001b[0m\n\u001b[0;32m     22\u001b[0m \u001b[1;33m\u001b[0m\u001b[0m\n\u001b[1;32m---> 23\u001b[1;33m \u001b[0mc\u001b[0m\u001b[1;33m=\u001b[0m\u001b[0mAnimal\u001b[0m\u001b[1;33m(\u001b[0m\u001b[1;33m)\u001b[0m\u001b[1;33m\u001b[0m\u001b[1;33m\u001b[0m\u001b[0m\n\u001b[0m",
      "\u001b[1;31mTypeError\u001b[0m: Can't instantiate abstract class Animal with abstract method move"
     ]
    }
   ],
   "source": [
    "from abc import ABC,abstractmethod\n",
    " \n",
    "class Animal(ABC):\n",
    "    @abstractmethod\n",
    "    def move(self):\n",
    "        pass\n",
    "class Human(Animal):\n",
    "    def move(self):\n",
    "        print(\"I can walk and run\")\n",
    " \n",
    "class Snake(Animal):\n",
    "    def move(self):\n",
    "        print(\"I can crawl\")\n",
    " \n",
    "class Dog(Animal):\n",
    "    def move(self):\n",
    "        print(\"I can bark\")\n",
    " \n",
    "class Lion(Animal):\n",
    "    def move(self):\n",
    "        print(\"I can roar\")\n",
    " \n",
    "c=Animal()"
   ]
  },
  {
   "cell_type": "markdown",
   "id": "b9fc6a08",
   "metadata": {},
   "source": [
    "Inheritance : Inheritance allows us to define a class that inherits all the methods and properties from another class. The Parent class is the class being inherited from, also called base class. The Child class is the class that inherits from another class, also called derived class.\n",
    "\n",
    "Types of Inheritance:\n",
    "\n",
    "Single Inheritance\n",
    "Multi-level Inheritance\n",
    "Multiple Inheritance\n",
    "Multipath Inheritance\n",
    "Hierarchical Inheritance\n",
    "Hybrid Inheritance\n",
    "\n",
    "Multiple Inheritance : Multiple inheritance is a feature of some object-oriented computer programming languages in which an object or class can inherit characteristics and features from more than one parent object or the parent class .\n",
    "\n",
    "Syntax of Multiple Inheritance :\n",
    "\n",
    "Class Base1: Body of the class\n",
    "\n",
    "Class Base2: Body of the class\n",
    "\n",
    "Class Derived(Base1, Base2): Body of the class\n",
    "\n"
   ]
  },
  {
   "cell_type": "code",
   "execution_count": 11,
   "id": "6759e95b",
   "metadata": {},
   "outputs": [
    {
     "name": "stdout",
     "output_type": "stream",
     "text": [
      "Father Enjoys Driving\n",
      "Mother Enjoys Cooking\n",
      "Child Loves Playing\n"
     ]
    }
   ],
   "source": [
    "class Father():\n",
    "    def Driving(self):\n",
    "        print(\"Father Enjoys Driving\")\n",
    "class Mother():\n",
    "    def Cooking(self):\n",
    "        print(\"Mother Enjoys Cooking\")\n",
    "class Child(Father, Mother):\n",
    "    def Playing(self):\n",
    "        print(\"Child Loves Playing\")\n",
    "c = Child()\n",
    "c.Driving()\n",
    "c.Cooking()\n",
    "c.Playing()"
   ]
  },
  {
   "cell_type": "markdown",
   "id": "2a17ba35",
   "metadata": {},
   "source": [
    "\n",
    "Here, the father and Mother are the Base classes where we have two print statements and a child class that contains all the methods of the father and mother class.\n",
    "\n",
    "The child class is also known as Derived class.\n",
    "\n",
    "We are creating the object for the child class through which we can access the functions of father, mother, and child.\n",
    "\n"
   ]
  },
  {
   "cell_type": "code",
   "execution_count": 12,
   "id": "976336ce",
   "metadata": {},
   "outputs": [
    {
     "name": "stdout",
     "output_type": "stream",
     "text": [
      "3\n",
      "2\n",
      "0.5\n"
     ]
    }
   ],
   "source": [
    "\n",
    "class Calculation1:  \n",
    "    def Summation(self,a,b):  \n",
    "        return a+b;  \n",
    "class Calculation2:  \n",
    "    def Multiplication(self,a,b):  \n",
    "        return a*b;  \n",
    "class Derived(Calculation1,Calculation2):  \n",
    "    def Divide(self,a,b):  \n",
    "        return a/b;  \n",
    "d = Derived()  \n",
    "print(d.Summation(1,2))  \n",
    "print(d.Multiplication(1,2))  \n",
    "print(d.Divide(1,2))  "
   ]
  },
  {
   "cell_type": "markdown",
   "id": "c6f671a0",
   "metadata": {},
   "source": [
    "Here, in the above program we have three classes. The class with Calculation1 and Calculation2 are the Base classes and the Class named Derived is the combination of the Calculation1 and Calculation2 classes.\n",
    "\n",
    "Calculation1 class performs the arithmetic operation and Calculation2 performs the Multiplication operation.\n",
    "\n",
    "Now, in the Derived class we have both an addition and multiplication operation along with its own operation division.\n",
    "\n",
    "This is how we implement multiple inheritance using Base and derived classes."
   ]
  },
  {
   "cell_type": "code",
   "execution_count": 13,
   "id": "23125ed6",
   "metadata": {},
   "outputs": [
    {
     "name": "stdout",
     "output_type": "stream",
     "text": [
      "Swift\n",
      "1\n"
     ]
    }
   ],
   "source": [
    "# definition of the class starts here  \n",
    "class Cars:  \n",
    "    # defining constructor  \n",
    "    def __init__(self, CarName, CarModel):  \n",
    "        self.name = CarName  \n",
    "        self.model = CarModel\n",
    "  \n",
    "    # defining class methods  \n",
    "    def showName(self):  \n",
    "        print(self.name)  \n",
    "  \n",
    "    def showModel(self):  \n",
    "        print(self.Model)  \n",
    "  \n",
    "    # end of class definition  \n",
    "  \n",
    "# defining another class  \n",
    "class Ids: \n",
    "    def __init__(self, CarId):  \n",
    "        self.CarId = CarId  \n",
    "  \n",
    "    def getId(self):  \n",
    "        return self.CarId  \n",
    "  \n",
    "  \n",
    "class Main(Cars, Ids): # extends both Cars and Ids class  \n",
    "    def __init__(self, name, model, id):  \n",
    "        Cars.__init__(self, name, model)  \n",
    "        Ids.__init__(self, id)  \n",
    "  \n",
    "  \n",
    "# Create an object of the subclass  \n",
    "Main1 = Main('Swift', 500, '1')  \n",
    "Main1.showName()  \n",
    "print(Main1.getId())  \n"
   ]
  },
  {
   "cell_type": "markdown",
   "id": "09caf705",
   "metadata": {},
   "source": [
    "Pros and Cons of Multiple Inheritance :\n",
    "\n",
    "Pros:\n",
    "\n",
    "It allows a class to inherit the functionality of more than one base class; thus allowing for modeling of complex relationships.\n",
    "\n",
    "You categorize classes in many different ways. Multiple inheritance is a way of showing our natural tendency to organize the world. During analysis, for example, we use multiple inheritance to capture the way users classify objects.\n",
    "\n",
    "By having multiple superclasses, your subclass has more opportunities to reuse the inherited attributes and operations of the superclasses.\n",
    "\n",
    "Application development time is less and application takes less memory.\n",
    "\n",
    "Cons:\n",
    "\n",
    "It can lead to a lot of confusion when two base classes implement a method with the same name.\n",
    "\n",
    "The more superclasses your subclass inherits from, the more maintenance you are likely to perform. If one of the superclasses happens to change, the subclass may have to change as well.\n",
    "\n",
    "Real Time Examples of Multiple Inheritance:\n",
    "\n",
    "Storing a student’s data.\n",
    "Filling taxes and applying deductions."
   ]
  },
  {
   "cell_type": "markdown",
   "id": "1e70ec5f",
   "metadata": {},
   "source": [
    "Decorators in Python\n",
    "In programming, decorator is a design pattern that adds additional responsibilities to an object dynamically. In Python, a function is the first-order object. So, a decorator in Python adds additional responsibilities/functionalities to a function dynamically without modifying a function.\n",
    "\n",
    "In Python, a function can be passed as an argument to another function. It is also possible to define a function inside another function, and a function can return another function.\n",
    "\n",
    "So, a decorator in Python is a function that receives another function as an argument. The behavior of the argument function is extended by the decorator without actually modifying it. The decorator function can be applied over a function using the @decorator syntax.\n",
    "\n",
    "Let's understand the decorator in Python step-by-step.\n",
    "\n",
    "Consider that we have the greet() function, as shown below.\n",
    "\n"
   ]
  },
  {
   "cell_type": "code",
   "execution_count": 16,
   "id": "2cf6fa14",
   "metadata": {},
   "outputs": [],
   "source": [
    "def greet():\n",
    " print('Hello! ', end='')"
   ]
  },
  {
   "cell_type": "markdown",
   "id": "a9eab4ab",
   "metadata": {},
   "source": [
    "Now, we can extend the above function's functionality without modifying it by passing it to another function, as shown below."
   ]
  },
  {
   "cell_type": "code",
   "execution_count": 17,
   "id": "202bb3e5",
   "metadata": {},
   "outputs": [],
   "source": [
    "def mydecorator(fn):\n",
    " fn()\n",
    " print('How are you?')"
   ]
  },
  {
   "cell_type": "markdown",
   "id": "e3092109",
   "metadata": {},
   "source": [
    "Above, the mydecorator() function takes a function as an argument. It calls the argument function and also prints some additional things. Thus, it extends the functionality of the greet() function without modifying it. However, it is not the actual decorator."
   ]
  },
  {
   "cell_type": "code",
   "execution_count": 18,
   "id": "218db512",
   "metadata": {},
   "outputs": [
    {
     "name": "stdout",
     "output_type": "stream",
     "text": [
      "Hello! How are you?\n"
     ]
    }
   ],
   "source": [
    "mydecorator(greet)\n"
   ]
  },
  {
   "cell_type": "markdown",
   "id": "8925b044",
   "metadata": {},
   "source": [
    "The mydecorator() is not a decorator in Python. The decorator in Python can be defined over any appropriate function using the @decorator_function_name syntax to extend the functionality of the underlying function.\n",
    "\n",
    "The following defines the decorator for the above greet() function."
   ]
  },
  {
   "cell_type": "code",
   "execution_count": 19,
   "id": "e3423c17",
   "metadata": {},
   "outputs": [],
   "source": [
    "def mydecorator(fn):\n",
    "    def inner_function():        \n",
    "        fn()\n",
    "        print('How are you?')\n",
    "    return inner_function"
   ]
  },
  {
   "cell_type": "markdown",
   "id": "bc119b0f",
   "metadata": {},
   "source": [
    "The mydecorator() function is the decorator function that takes a function (any function that does not take any argument) as an argument. The inner function inner_function() can access the outer function's argument, so it executes some code before or after to extend the functionality before calling the argument function. The mydecorator function returns an inner function.\n",
    "\n",
    "Now, we can use mydecorator as a decorator to apply over a function that does not take any argument, as shown below."
   ]
  },
  {
   "cell_type": "code",
   "execution_count": 20,
   "id": "2b3e9877",
   "metadata": {},
   "outputs": [],
   "source": [
    "@mydecorator\n",
    "def greet():\n",
    " print('Hello! ', end='')"
   ]
  },
  {
   "cell_type": "markdown",
   "id": "7d4fc971",
   "metadata": {},
   "source": [
    "Now, calling the above greet() function will give the following output."
   ]
  },
  {
   "cell_type": "code",
   "execution_count": 21,
   "id": "e2709272",
   "metadata": {},
   "outputs": [
    {
     "name": "stdout",
     "output_type": "stream",
     "text": [
      "Hello! How are you?\n"
     ]
    }
   ],
   "source": [
    " greet()"
   ]
  },
  {
   "cell_type": "markdown",
   "id": "f27adffd",
   "metadata": {},
   "source": [
    "The mydecorator can be applied to any function that does not require any argument. For example:"
   ]
  },
  {
   "cell_type": "code",
   "execution_count": 23,
   "id": "b88b8729",
   "metadata": {},
   "outputs": [],
   "source": [
    "@mydecorator\n",
    "def dosomething():\n",
    "  print('I am doing something.', end='')"
   ]
  },
  {
   "cell_type": "code",
   "execution_count": 24,
   "id": "bcf2612f",
   "metadata": {},
   "outputs": [
    {
     "name": "stdout",
     "output_type": "stream",
     "text": [
      "I am doing something.How are you?\n"
     ]
    }
   ],
   "source": [
    "dosomething()"
   ]
  },
  {
   "cell_type": "markdown",
   "id": "0f850af6",
   "metadata": {},
   "source": [
    "The typical decorator function will look like below."
   ]
  },
  {
   "cell_type": "code",
   "execution_count": 25,
   "id": "f8ac42dc",
   "metadata": {},
   "outputs": [],
   "source": [
    "def mydecoratorfunction(some_function): # decorator function\n",
    "    def inner_function(): \n",
    "        # write code to extend the behavior of some_function()\n",
    "        some_function() # call some_function\n",
    "        # write code to extend the behavior of some_function()\n",
    "    return inner_function # return a wrapper function"
   ]
  },
  {
   "cell_type": "markdown",
   "id": "08aa469b",
   "metadata": {},
   "source": [
    "Built-in Decorators\n",
    "Python library contains many built-in decorators as a shortcut of defining properties, class method, static methods, etc.\n",
    "\n",
    "Decorator\tDescription\n",
    "@property\tDeclares a method as a property's setter or getter methods.\n",
    "@classmethod\tDeclares a method as a class's method that can be called using the class name.\n",
    "@staticmethod\tDeclares a method as a static method."
   ]
  }
 ],
 "metadata": {
  "kernelspec": {
   "display_name": "Python 3 (ipykernel)",
   "language": "python",
   "name": "python3"
  },
  "language_info": {
   "codemirror_mode": {
    "name": "ipython",
    "version": 3
   },
   "file_extension": ".py",
   "mimetype": "text/x-python",
   "name": "python",
   "nbconvert_exporter": "python",
   "pygments_lexer": "ipython3",
   "version": "3.9.7"
  }
 },
 "nbformat": 4,
 "nbformat_minor": 5
}
